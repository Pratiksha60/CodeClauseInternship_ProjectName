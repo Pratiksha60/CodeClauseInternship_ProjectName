{
 "cells": [
  {
   "cell_type": "markdown",
   "id": "4343c510",
   "metadata": {},
   "source": [
    "# Exploratory Data Analysis on Iris Dataset\n",
    "\n",
    "This project performs exploratory data analysis (EDA) on the famous Iris dataset using Python libraries such as Pandas, Seaborn, and Matplotlib. The aim is to visualize patterns, understand feature relationships, and extract useful insights from the dataset."
   ]
  },
  {
   "cell_type": "code",
   "execution_count": null,
   "id": "17408b4b",
   "metadata": {
    "vscode": {
     "languageId": "plaintext"
    }
   },
   "outputs": [],
   "source": [
    "import pandas as pd\n",
    "import seaborn as sns\n",
    "import matplotlib.pyplot as plt\n",
    "from sklearn.datasets import load_iris"
   ]
  },
  {
   "cell_type": "code",
   "execution_count": null,
   "id": "633291e8",
   "metadata": {
    "vscode": {
     "languageId": "plaintext"
    }
   },
   "outputs": [],
   "source": [
    "iris = load_iris()\n",
    "df = pd.DataFrame(iris.data, columns=iris.feature_names)\n",
    "df['species'] = [iris.target_names[i] for i in iris.target]"
   ]
  },
  {
   "cell_type": "code",
   "execution_count": null,
   "id": "4aa8eb82",
   "metadata": {
    "vscode": {
     "languageId": "plaintext"
    }
   },
   "outputs": [],
   "source": [
    "df.info()"
   ]
  },
  {
   "cell_type": "code",
   "execution_count": null,
   "id": "d19e4a04",
   "metadata": {
    "vscode": {
     "languageId": "plaintext"
    }
   },
   "outputs": [],
   "source": [
    "df.describe()"
   ]
  },
  {
   "cell_type": "code",
   "execution_count": null,
   "id": "415ec5c9",
   "metadata": {
    "vscode": {
     "languageId": "plaintext"
    }
   },
   "outputs": [],
   "source": [
    "df['species'].value_counts()"
   ]
  },
  {
   "cell_type": "code",
   "execution_count": null,
   "id": "033110da",
   "metadata": {
    "vscode": {
     "languageId": "plaintext"
    }
   },
   "outputs": [],
   "source": [
    "sns.pairplot(df, hue='species')\n",
    "plt.show()"
   ]
  },
  {
   "cell_type": "code",
   "execution_count": null,
   "id": "3bec00d1",
   "metadata": {
    "vscode": {
     "languageId": "plaintext"
    }
   },
   "outputs": [],
   "source": [
    "sns.heatmap(df.drop('species', axis=1).corr(), annot=True, cmap='coolwarm')\n",
    "plt.title(\"Feature Correlation Heatmap\")\n",
    "plt.show()"
   ]
  },
  {
   "cell_type": "code",
   "execution_count": null,
   "id": "e196b294",
   "metadata": {
    "vscode": {
     "languageId": "plaintext"
    }
   },
   "outputs": [],
   "source": [
    "for col in df.columns[:-1]:\n",
    "    plt.figure(figsize=(6, 4))\n",
    "    sns.boxplot(x='species', y=col, data=df)\n",
    "    plt.title(f'{col} by Species')\n",
    "    plt.show()"
   ]
  },
  {
   "cell_type": "markdown",
   "id": "3bd28953",
   "metadata": {},
   "source": []
  },
  {
   "cell_type": "markdown",
   "id": "ae1cc924",
   "metadata": {},
   "source": [
    "### Key Observations:\n",
    "- **Setosa** flowers have the smallest petal length and width.\n",
    "- **Versicolor** and **Virginica** have overlapping features in sepal dimensions.\n",
    "- **Petal length** and **petal width** are the most useful features for distinguishing species.\n",
    "- Setosa is linearly separable from the other two species."
   ]
  },
  {
   "cell_type": "markdown",
   "id": "0f9e8884",
   "metadata": {},
   "source": []
  }
 ],
 "metadata": {
  "language_info": {
   "name": "python"
  }
 },
 "nbformat": 4,
 "nbformat_minor": 5
}
